{
 "cells": [
  {
   "cell_type": "code",
   "execution_count": 1,
   "metadata": {},
   "outputs": [
    {
     "name": "stderr",
     "output_type": "stream",
     "text": [
      "Using cache found in C:\\Users\\jyoti/.cache\\torch\\hub\\facebookresearch_pytorchvideo_main\n"
     ]
    }
   ],
   "source": [
    "import torch\n",
    "# Choose the `slow_r50` model \n",
    "model = torch.hub.load('facebookresearch/pytorchvideo', 'slow_r50', pretrained=True)"
   ]
  },
  {
   "cell_type": "code",
   "execution_count": 3,
   "metadata": {},
   "outputs": [
    {
     "name": "stdout",
     "output_type": "stream",
     "text": [
      "Collecting av\n",
      "  Downloading av-13.1.0-cp311-cp311-win_amd64.whl.metadata (4.6 kB)\n",
      "Downloading av-13.1.0-cp311-cp311-win_amd64.whl (25.8 MB)\n",
      "   ---------------------------------------- 0.0/25.8 MB ? eta -:--:--\n",
      "   ---------------------------------------- 0.0/25.8 MB ? eta -:--:--\n",
      "   ---------------------------------------- 0.1/25.8 MB 656.4 kB/s eta 0:00:40\n",
      "   ---------------------------------------- 0.3/25.8 MB 2.2 MB/s eta 0:00:12\n",
      "   - -------------------------------------- 0.7/25.8 MB 4.2 MB/s eta 0:00:06\n",
      "   - -------------------------------------- 1.2/25.8 MB 5.6 MB/s eta 0:00:05\n",
      "   -- ------------------------------------- 1.6/25.8 MB 6.0 MB/s eta 0:00:05\n",
      "   --- ------------------------------------ 2.1/25.8 MB 6.8 MB/s eta 0:00:04\n",
      "   --- ------------------------------------ 2.6/25.8 MB 7.1 MB/s eta 0:00:04\n",
      "   ---- ----------------------------------- 3.1/25.8 MB 7.6 MB/s eta 0:00:03\n",
      "   ----- ---------------------------------- 3.7/25.8 MB 8.1 MB/s eta 0:00:03\n",
      "   ------ --------------------------------- 4.0/25.8 MB 8.0 MB/s eta 0:00:03\n",
      "   ------- -------------------------------- 4.6/25.8 MB 8.4 MB/s eta 0:00:03\n",
      "   ------- -------------------------------- 5.1/25.8 MB 8.6 MB/s eta 0:00:03\n",
      "   -------- ------------------------------- 5.6/25.8 MB 9.0 MB/s eta 0:00:03\n",
      "   --------- ------------------------------ 6.1/25.8 MB 9.0 MB/s eta 0:00:03\n",
      "   --------- ------------------------------ 6.1/25.8 MB 9.0 MB/s eta 0:00:03\n",
      "   ---------- ----------------------------- 7.0/25.8 MB 9.2 MB/s eta 0:00:03\n",
      "   ----------- ---------------------------- 7.4/25.8 MB 9.1 MB/s eta 0:00:03\n",
      "   ------------ --------------------------- 7.9/25.8 MB 9.2 MB/s eta 0:00:02\n",
      "   ------------- -------------------------- 8.4/25.8 MB 9.3 MB/s eta 0:00:02\n",
      "   ------------- -------------------------- 9.0/25.8 MB 9.4 MB/s eta 0:00:02\n",
      "   -------------- ------------------------- 9.5/25.8 MB 9.5 MB/s eta 0:00:02\n",
      "   --------------- ------------------------ 10.1/25.8 MB 9.6 MB/s eta 0:00:02\n",
      "   ---------------- ----------------------- 10.6/25.8 MB 10.7 MB/s eta 0:00:02\n",
      "   ----------------- ---------------------- 11.2/25.8 MB 10.9 MB/s eta 0:00:02\n",
      "   ------------------ --------------------- 11.7/25.8 MB 10.9 MB/s eta 0:00:02\n",
      "   ------------------ --------------------- 12.2/25.8 MB 10.9 MB/s eta 0:00:02\n",
      "   ------------------- -------------------- 12.8/25.8 MB 11.1 MB/s eta 0:00:02\n",
      "   -------------------- ------------------- 13.2/25.8 MB 10.9 MB/s eta 0:00:02\n",
      "   --------------------- ------------------ 13.7/25.8 MB 11.1 MB/s eta 0:00:02\n",
      "   ---------------------- ----------------- 14.2/25.8 MB 11.1 MB/s eta 0:00:02\n",
      "   ---------------------- ----------------- 14.5/25.8 MB 10.9 MB/s eta 0:00:02\n",
      "   ----------------------- ---------------- 15.1/25.8 MB 10.9 MB/s eta 0:00:01\n",
      "   ------------------------ --------------- 15.6/25.8 MB 10.9 MB/s eta 0:00:01\n",
      "   ------------------------- -------------- 16.1/25.8 MB 10.9 MB/s eta 0:00:01\n",
      "   ------------------------- -------------- 16.6/25.8 MB 11.5 MB/s eta 0:00:01\n",
      "   -------------------------- ------------- 17.2/25.8 MB 11.1 MB/s eta 0:00:01\n",
      "   --------------------------- ------------ 17.7/25.8 MB 11.3 MB/s eta 0:00:01\n",
      "   ---------------------------- ----------- 18.3/25.8 MB 11.3 MB/s eta 0:00:01\n",
      "   ----------------------------- ---------- 18.8/25.8 MB 11.3 MB/s eta 0:00:01\n",
      "   ----------------------------- ---------- 19.3/25.8 MB 11.3 MB/s eta 0:00:01\n",
      "   ------------------------------ --------- 19.9/25.8 MB 11.3 MB/s eta 0:00:01\n",
      "   ------------------------------- -------- 20.4/25.8 MB 11.1 MB/s eta 0:00:01\n",
      "   -------------------------------- ------- 21.0/25.8 MB 11.3 MB/s eta 0:00:01\n",
      "   --------------------------------- ------ 21.5/25.8 MB 11.1 MB/s eta 0:00:01\n",
      "   ---------------------------------- ----- 22.0/25.8 MB 11.5 MB/s eta 0:00:01\n",
      "   ----------------------------------- ---- 22.6/25.8 MB 11.5 MB/s eta 0:00:01\n",
      "   ----------------------------------- ---- 23.1/25.8 MB 11.5 MB/s eta 0:00:01\n",
      "   ------------------------------------ --- 23.7/25.8 MB 11.5 MB/s eta 0:00:01\n",
      "   ------------------------------------- -- 24.1/25.8 MB 11.5 MB/s eta 0:00:01\n",
      "   -------------------------------------- - 24.7/25.8 MB 11.7 MB/s eta 0:00:01\n",
      "   ---------------------------------------  25.2/25.8 MB 11.7 MB/s eta 0:00:01\n",
      "   ---------------------------------------  25.8/25.8 MB 11.7 MB/s eta 0:00:01\n",
      "   ---------------------------------------- 25.8/25.8 MB 11.1 MB/s eta 0:00:00\n",
      "Installing collected packages: av\n",
      "Successfully installed av-13.1.0\n"
     ]
    }
   ],
   "source": [
    "!pip install av"
   ]
  },
  {
   "cell_type": "code",
   "execution_count": 4,
   "metadata": {},
   "outputs": [
    {
     "name": "stderr",
     "output_type": "stream",
     "text": [
      "c:\\Users\\jyoti\\anaconda3\\envs\\save\\Lib\\site-packages\\torchvision\\transforms\\_functional_video.py:6: UserWarning: The 'torchvision.transforms._functional_video' module is deprecated since 0.12 and will be removed in the future. Please use the 'torchvision.transforms.functional' module instead.\n",
      "  warnings.warn(\n",
      "c:\\Users\\jyoti\\anaconda3\\envs\\save\\Lib\\site-packages\\torchvision\\transforms\\_transforms_video.py:22: UserWarning: The 'torchvision.transforms._transforms_video' module is deprecated since 0.12 and will be removed in the future. Please use the 'torchvision.transforms' module instead.\n",
      "  warnings.warn(\n"
     ]
    }
   ],
   "source": [
    "import json\n",
    "import urllib\n",
    "from pytorchvideo.data.encoded_video import EncodedVideo\n",
    "\n",
    "from torchvision.transforms import Compose, Lambda\n",
    "from torchvision.transforms._transforms_video import (\n",
    "    CenterCropVideo,\n",
    "    NormalizeVideo,\n",
    ")\n",
    "from pytorchvideo.transforms import (\n",
    "    ApplyTransformToKey,\n",
    "    ShortSideScale,\n",
    "    UniformTemporalSubsample\n",
    ")"
   ]
  },
  {
   "cell_type": "code",
   "execution_count": 5,
   "metadata": {},
   "outputs": [],
   "source": [
    "device = \"cpu\"\n",
    "model = model.eval()\n",
    "model = model.to(device)"
   ]
  },
  {
   "cell_type": "code",
   "execution_count": 6,
   "metadata": {},
   "outputs": [],
   "source": [
    "json_url = \"https://dl.fbaipublicfiles.com/pyslowfast/dataset/class_names/kinetics_classnames.json\"\n",
    "json_filename = \"kinetics_classnames.json\"\n",
    "try: urllib.URLopener().retrieve(json_url, json_filename)\n",
    "except: urllib.request.urlretrieve(json_url, json_filename)"
   ]
  },
  {
   "cell_type": "code",
   "execution_count": 7,
   "metadata": {},
   "outputs": [],
   "source": [
    "with open(json_filename, \"r\") as f:\n",
    "    kinetics_classnames = json.load(f)\n",
    "\n",
    "# Create an id to label name mapping\n",
    "kinetics_id_to_classname = {}\n",
    "for k, v in kinetics_classnames.items():\n",
    "    kinetics_id_to_classname[v] = str(k).replace('\"', \"\")"
   ]
  },
  {
   "cell_type": "code",
   "execution_count": 8,
   "metadata": {},
   "outputs": [],
   "source": [
    "side_size = 256\n",
    "mean = [0.45, 0.45, 0.45]\n",
    "std = [0.225, 0.225, 0.225]\n",
    "crop_size = 256\n",
    "num_frames = 8\n",
    "sampling_rate = 8\n",
    "frames_per_second = 30\n",
    "\n",
    "# Note that this transform is specific to the slow_R50 model.\n",
    "transform =  ApplyTransformToKey(\n",
    "    key=\"video\",\n",
    "    transform=Compose(\n",
    "        [\n",
    "            UniformTemporalSubsample(num_frames),\n",
    "            Lambda(lambda x: x/255.0),\n",
    "            NormalizeVideo(mean, std),\n",
    "            ShortSideScale(\n",
    "                size=side_size\n",
    "            ),\n",
    "            CenterCropVideo(crop_size=(crop_size, crop_size))\n",
    "        ]\n",
    "    ),\n",
    ")\n",
    "\n",
    "# The duration of the input clip is also specific to the model.\n",
    "clip_duration = (num_frames * sampling_rate)/frames_per_second"
   ]
  },
  {
   "cell_type": "code",
   "execution_count": 9,
   "metadata": {},
   "outputs": [],
   "source": [
    "url_link = \"https://dl.fbaipublicfiles.com/pytorchvideo/projects/archery.mp4\"\n",
    "video_path = 'archery.mp4'\n",
    "try: urllib.URLopener().retrieve(url_link, video_path)\n",
    "except: urllib.request.urlretrieve(url_link, video_path)"
   ]
  },
  {
   "cell_type": "code",
   "execution_count": 10,
   "metadata": {},
   "outputs": [],
   "source": [
    "# Select the duration of the clip to load by specifying the start and end duration\n",
    "# The start_sec should correspond to where the action occurs in the video\n",
    "start_sec = 0\n",
    "end_sec = start_sec + clip_duration\n",
    "\n",
    "# Initialize an EncodedVideo helper class and load the video\n",
    "video = EncodedVideo.from_path(video_path)\n",
    "\n",
    "# Load the desired clip\n",
    "video_data = video.get_clip(start_sec=start_sec, end_sec=end_sec)\n",
    "\n",
    "# Apply a transform to normalize the video input\n",
    "video_data = transform(video_data)\n",
    "\n",
    "# Move the inputs to the desired device\n",
    "inputs = video_data[\"video\"]\n",
    "inputs = inputs.to(device)"
   ]
  },
  {
   "cell_type": "code",
   "execution_count": 11,
   "metadata": {},
   "outputs": [
    {
     "name": "stdout",
     "output_type": "stream",
     "text": [
      "Top 5 predicted labels: archery, throwing axe, playing paintball, stretching arm, riding or walking with horse\n"
     ]
    }
   ],
   "source": [
    "preds = model(inputs[None, ...])\n",
    "\n",
    "# Get the predicted classes\n",
    "post_act = torch.nn.Softmax(dim=1)\n",
    "preds = post_act(preds)\n",
    "pred_classes = preds.topk(k=5).indices[0]\n",
    "\n",
    "# Map the predicted classes to the label names\n",
    "pred_class_names = [kinetics_id_to_classname[int(i)] for i in pred_classes]\n",
    "print(\"Top 5 predicted labels: %s\" % \", \".join(pred_class_names))"
   ]
  },
  {
   "cell_type": "code",
   "execution_count": 17,
   "metadata": {},
   "outputs": [
    {
     "name": "stdout",
     "output_type": "stream",
     "text": [
      "\n",
      "Training Fold 1/2\n"
     ]
    },
    {
     "name": "stderr",
     "output_type": "stream",
     "text": [
      "Using cache found in C:\\Users\\jyoti/.cache\\torch\\hub\\facebookresearch_pytorchvideo_main\n",
      "Training: 100%|██████████| 9/9 [06:14<00:00, 41.65s/it]\n",
      "Validating: 100%|██████████| 9/9 [05:41<00:00, 37.92s/it]\n",
      "c:\\Users\\jyoti\\anaconda3\\envs\\save\\Lib\\site-packages\\sklearn\\metrics\\_classification.py:1471: UndefinedMetricWarning: Precision and F-score are ill-defined and being set to 0.0 in labels with no predicted samples. Use `zero_division` parameter to control this behavior.\n",
      "  _warn_prf(average, modifier, msg_start, len(result))\n",
      "c:\\Users\\jyoti\\anaconda3\\envs\\save\\Lib\\site-packages\\sklearn\\metrics\\_classification.py:1471: UndefinedMetricWarning: Precision and F-score are ill-defined and being set to 0.0 in labels with no predicted samples. Use `zero_division` parameter to control this behavior.\n",
      "  _warn_prf(average, modifier, msg_start, len(result))\n",
      "c:\\Users\\jyoti\\anaconda3\\envs\\save\\Lib\\site-packages\\sklearn\\metrics\\_classification.py:1471: UndefinedMetricWarning: Precision and F-score are ill-defined and being set to 0.0 in labels with no predicted samples. Use `zero_division` parameter to control this behavior.\n",
      "  _warn_prf(average, modifier, msg_start, len(result))\n"
     ]
    },
    {
     "name": "stdout",
     "output_type": "stream",
     "text": [
      "Epoch 1/5\n",
      "Train Loss: 1.0583\n",
      "Val Loss: 23.0019\n"
     ]
    },
    {
     "name": "stderr",
     "output_type": "stream",
     "text": [
      "Training: 100%|██████████| 9/9 [07:03<00:00, 47.04s/it]\n",
      "Validating: 100%|██████████| 9/9 [06:39<00:00, 44.35s/it]\n",
      "c:\\Users\\jyoti\\anaconda3\\envs\\save\\Lib\\site-packages\\sklearn\\metrics\\_classification.py:1471: UndefinedMetricWarning: Precision and F-score are ill-defined and being set to 0.0 in labels with no predicted samples. Use `zero_division` parameter to control this behavior.\n",
      "  _warn_prf(average, modifier, msg_start, len(result))\n",
      "c:\\Users\\jyoti\\anaconda3\\envs\\save\\Lib\\site-packages\\sklearn\\metrics\\_classification.py:1471: UndefinedMetricWarning: Precision and F-score are ill-defined and being set to 0.0 in labels with no predicted samples. Use `zero_division` parameter to control this behavior.\n",
      "  _warn_prf(average, modifier, msg_start, len(result))\n",
      "c:\\Users\\jyoti\\anaconda3\\envs\\save\\Lib\\site-packages\\sklearn\\metrics\\_classification.py:1471: UndefinedMetricWarning: Precision and F-score are ill-defined and being set to 0.0 in labels with no predicted samples. Use `zero_division` parameter to control this behavior.\n",
      "  _warn_prf(average, modifier, msg_start, len(result))\n"
     ]
    },
    {
     "name": "stdout",
     "output_type": "stream",
     "text": [
      "Epoch 2/5\n",
      "Train Loss: 1.0276\n",
      "Val Loss: 20.9693\n"
     ]
    },
    {
     "name": "stderr",
     "output_type": "stream",
     "text": [
      "Training: 100%|██████████| 9/9 [08:37<00:00, 57.51s/it]\n",
      "Validating: 100%|██████████| 9/9 [08:23<00:00, 55.99s/it]\n"
     ]
    },
    {
     "name": "stdout",
     "output_type": "stream",
     "text": [
      "Epoch 3/5\n",
      "Train Loss: 0.8452\n",
      "Val Loss: 30.5809\n"
     ]
    },
    {
     "name": "stderr",
     "output_type": "stream",
     "text": [
      "Training: 100%|██████████| 9/9 [09:08<00:00, 60.96s/it]\n",
      "Validating: 100%|██████████| 9/9 [08:32<00:00, 56.93s/it]\n",
      "c:\\Users\\jyoti\\anaconda3\\envs\\save\\Lib\\site-packages\\sklearn\\metrics\\_classification.py:1471: UndefinedMetricWarning: Precision and F-score are ill-defined and being set to 0.0 in labels with no predicted samples. Use `zero_division` parameter to control this behavior.\n",
      "  _warn_prf(average, modifier, msg_start, len(result))\n",
      "c:\\Users\\jyoti\\anaconda3\\envs\\save\\Lib\\site-packages\\sklearn\\metrics\\_classification.py:1471: UndefinedMetricWarning: Precision and F-score are ill-defined and being set to 0.0 in labels with no predicted samples. Use `zero_division` parameter to control this behavior.\n",
      "  _warn_prf(average, modifier, msg_start, len(result))\n",
      "c:\\Users\\jyoti\\anaconda3\\envs\\save\\Lib\\site-packages\\sklearn\\metrics\\_classification.py:1471: UndefinedMetricWarning: Precision and F-score are ill-defined and being set to 0.0 in labels with no predicted samples. Use `zero_division` parameter to control this behavior.\n",
      "  _warn_prf(average, modifier, msg_start, len(result))\n"
     ]
    },
    {
     "name": "stdout",
     "output_type": "stream",
     "text": [
      "Epoch 4/5\n",
      "Train Loss: 0.8123\n",
      "Val Loss: 6.8510\n"
     ]
    },
    {
     "name": "stderr",
     "output_type": "stream",
     "text": [
      "Training: 100%|██████████| 9/9 [58:16<00:00, 388.45s/it]   \n",
      "Validating: 100%|██████████| 9/9 [11:01<00:00, 73.54s/it]\n"
     ]
    },
    {
     "name": "stdout",
     "output_type": "stream",
     "text": [
      "Epoch 5/5\n",
      "Train Loss: 0.7061\n",
      "Val Loss: 6.5737\n"
     ]
    },
    {
     "name": "stderr",
     "output_type": "stream",
     "text": [
      "c:\\Users\\jyoti\\anaconda3\\envs\\save\\Lib\\site-packages\\sklearn\\metrics\\_classification.py:1471: UndefinedMetricWarning: Precision and F-score are ill-defined and being set to 0.0 in labels with no predicted samples. Use `zero_division` parameter to control this behavior.\n",
      "  _warn_prf(average, modifier, msg_start, len(result))\n",
      "c:\\Users\\jyoti\\anaconda3\\envs\\save\\Lib\\site-packages\\sklearn\\metrics\\_classification.py:1471: UndefinedMetricWarning: Precision and F-score are ill-defined and being set to 0.0 in labels with no predicted samples. Use `zero_division` parameter to control this behavior.\n",
      "  _warn_prf(average, modifier, msg_start, len(result))\n",
      "c:\\Users\\jyoti\\anaconda3\\envs\\save\\Lib\\site-packages\\sklearn\\metrics\\_classification.py:1471: UndefinedMetricWarning: Precision and F-score are ill-defined and being set to 0.0 in labels with no predicted samples. Use `zero_division` parameter to control this behavior.\n",
      "  _warn_prf(average, modifier, msg_start, len(result))\n"
     ]
    },
    {
     "name": "stdout",
     "output_type": "stream",
     "text": [
      "\n",
      "Training Fold 2/2\n"
     ]
    },
    {
     "name": "stderr",
     "output_type": "stream",
     "text": [
      "Using cache found in C:\\Users\\jyoti/.cache\\torch\\hub\\facebookresearch_pytorchvideo_main\n",
      "Training: 100%|██████████| 9/9 [11:00<00:00, 73.44s/it]\n",
      "Validating: 100%|██████████| 9/9 [11:43<00:00, 78.17s/it] \n",
      "c:\\Users\\jyoti\\anaconda3\\envs\\save\\Lib\\site-packages\\sklearn\\metrics\\_classification.py:1471: UndefinedMetricWarning: Precision and F-score are ill-defined and being set to 0.0 in labels with no predicted samples. Use `zero_division` parameter to control this behavior.\n",
      "  _warn_prf(average, modifier, msg_start, len(result))\n",
      "c:\\Users\\jyoti\\anaconda3\\envs\\save\\Lib\\site-packages\\sklearn\\metrics\\_classification.py:1471: UndefinedMetricWarning: Precision and F-score are ill-defined and being set to 0.0 in labels with no predicted samples. Use `zero_division` parameter to control this behavior.\n",
      "  _warn_prf(average, modifier, msg_start, len(result))\n",
      "c:\\Users\\jyoti\\anaconda3\\envs\\save\\Lib\\site-packages\\sklearn\\metrics\\_classification.py:1471: UndefinedMetricWarning: Precision and F-score are ill-defined and being set to 0.0 in labels with no predicted samples. Use `zero_division` parameter to control this behavior.\n",
      "  _warn_prf(average, modifier, msg_start, len(result))\n"
     ]
    },
    {
     "name": "stdout",
     "output_type": "stream",
     "text": [
      "Epoch 1/5\n",
      "Train Loss: 0.9967\n",
      "Val Loss: 363.5230\n"
     ]
    },
    {
     "name": "stderr",
     "output_type": "stream",
     "text": [
      "Training: 100%|██████████| 9/9 [12:33<00:00, 83.69s/it]\n",
      "Validating: 100%|██████████| 9/9 [12:02<00:00, 80.29s/it] \n",
      "c:\\Users\\jyoti\\anaconda3\\envs\\save\\Lib\\site-packages\\sklearn\\metrics\\_classification.py:1471: UndefinedMetricWarning: Precision and F-score are ill-defined and being set to 0.0 in labels with no predicted samples. Use `zero_division` parameter to control this behavior.\n",
      "  _warn_prf(average, modifier, msg_start, len(result))\n",
      "c:\\Users\\jyoti\\anaconda3\\envs\\save\\Lib\\site-packages\\sklearn\\metrics\\_classification.py:1471: UndefinedMetricWarning: Precision and F-score are ill-defined and being set to 0.0 in labels with no predicted samples. Use `zero_division` parameter to control this behavior.\n",
      "  _warn_prf(average, modifier, msg_start, len(result))\n",
      "c:\\Users\\jyoti\\anaconda3\\envs\\save\\Lib\\site-packages\\sklearn\\metrics\\_classification.py:1471: UndefinedMetricWarning: Precision and F-score are ill-defined and being set to 0.0 in labels with no predicted samples. Use `zero_division` parameter to control this behavior.\n",
      "  _warn_prf(average, modifier, msg_start, len(result))\n"
     ]
    },
    {
     "name": "stdout",
     "output_type": "stream",
     "text": [
      "Epoch 2/5\n",
      "Train Loss: 1.0123\n",
      "Val Loss: 146.8923\n"
     ]
    },
    {
     "name": "stderr",
     "output_type": "stream",
     "text": [
      "Training: 100%|██████████| 9/9 [12:27<00:00, 83.07s/it]\n",
      "Validating: 100%|██████████| 9/9 [11:34<00:00, 77.19s/it] \n",
      "c:\\Users\\jyoti\\anaconda3\\envs\\save\\Lib\\site-packages\\sklearn\\metrics\\_classification.py:1471: UndefinedMetricWarning: Precision and F-score are ill-defined and being set to 0.0 in labels with no predicted samples. Use `zero_division` parameter to control this behavior.\n",
      "  _warn_prf(average, modifier, msg_start, len(result))\n",
      "c:\\Users\\jyoti\\anaconda3\\envs\\save\\Lib\\site-packages\\sklearn\\metrics\\_classification.py:1471: UndefinedMetricWarning: Precision and F-score are ill-defined and being set to 0.0 in labels with no predicted samples. Use `zero_division` parameter to control this behavior.\n",
      "  _warn_prf(average, modifier, msg_start, len(result))\n",
      "c:\\Users\\jyoti\\anaconda3\\envs\\save\\Lib\\site-packages\\sklearn\\metrics\\_classification.py:1471: UndefinedMetricWarning: Precision and F-score are ill-defined and being set to 0.0 in labels with no predicted samples. Use `zero_division` parameter to control this behavior.\n",
      "  _warn_prf(average, modifier, msg_start, len(result))\n"
     ]
    },
    {
     "name": "stdout",
     "output_type": "stream",
     "text": [
      "Epoch 3/5\n",
      "Train Loss: 0.8507\n",
      "Val Loss: 20.5166\n"
     ]
    },
    {
     "name": "stderr",
     "output_type": "stream",
     "text": [
      "Training: 100%|██████████| 9/9 [12:30<00:00, 83.40s/it] \n",
      "Validating: 100%|██████████| 9/9 [11:25<00:00, 76.19s/it]\n",
      "c:\\Users\\jyoti\\anaconda3\\envs\\save\\Lib\\site-packages\\sklearn\\metrics\\_classification.py:1471: UndefinedMetricWarning: Precision and F-score are ill-defined and being set to 0.0 in labels with no predicted samples. Use `zero_division` parameter to control this behavior.\n",
      "  _warn_prf(average, modifier, msg_start, len(result))\n",
      "c:\\Users\\jyoti\\anaconda3\\envs\\save\\Lib\\site-packages\\sklearn\\metrics\\_classification.py:1471: UndefinedMetricWarning: Precision and F-score are ill-defined and being set to 0.0 in labels with no predicted samples. Use `zero_division` parameter to control this behavior.\n",
      "  _warn_prf(average, modifier, msg_start, len(result))\n",
      "c:\\Users\\jyoti\\anaconda3\\envs\\save\\Lib\\site-packages\\sklearn\\metrics\\_classification.py:1471: UndefinedMetricWarning: Precision and F-score are ill-defined and being set to 0.0 in labels with no predicted samples. Use `zero_division` parameter to control this behavior.\n",
      "  _warn_prf(average, modifier, msg_start, len(result))\n"
     ]
    },
    {
     "name": "stdout",
     "output_type": "stream",
     "text": [
      "Epoch 4/5\n",
      "Train Loss: 0.7823\n",
      "Val Loss: 3.0489\n"
     ]
    },
    {
     "name": "stderr",
     "output_type": "stream",
     "text": [
      "Training: 100%|██████████| 9/9 [13:12<00:00, 88.07s/it] \n",
      "Validating: 100%|██████████| 9/9 [10:55<00:00, 72.86s/it]\n"
     ]
    },
    {
     "name": "stdout",
     "output_type": "stream",
     "text": [
      "Epoch 5/5\n",
      "Train Loss: 0.7321\n",
      "Val Loss: 3.2890\n",
      "\n",
      "Final Cross-Validation Results:\n",
      "\n",
      "Class-wise Performance:\n",
      "       precision         recall       f1-score\n",
      "0  0.550 ± 0.036  1.000 ± 0.000  0.709 ± 0.030\n",
      "1  0.250 ± 0.250  0.031 ± 0.031  0.056 ± 0.056\n",
      "2  0.000 ± 0.000  0.000 ± 0.000  0.000 ± 0.000\n"
     ]
    }
   ],
   "source": [
    "import torch\n",
    "import torch.nn as nn\n",
    "from torch.utils.data import Dataset, DataLoader, SubsetRandomSampler\n",
    "from torchvision.transforms import Compose, Lambda\n",
    "from torchvision.transforms._transforms_video import (\n",
    "    CenterCropVideo,\n",
    "    NormalizeVideo,\n",
    ")\n",
    "from pytorchvideo.transforms import (\n",
    "    ApplyTransformToKey,\n",
    "    ShortSideScale,\n",
    "    UniformTemporalSubsample\n",
    ")\n",
    "from pytorchvideo.data.encoded_video import EncodedVideo\n",
    "import numpy as np\n",
    "from pathlib import Path\n",
    "from sklearn.model_selection import KFold\n",
    "from sklearn.metrics import classification_report, confusion_matrix\n",
    "import seaborn as sns\n",
    "import matplotlib.pyplot as plt\n",
    "from tqdm import tqdm\n",
    "import pandas as pd\n",
    "import os\n",
    "\n",
    "class VideoDataset(Dataset):\n",
    "    \"\"\"Custom Dataset for loading video clips from directory structure\"\"\"\n",
    "    def __init__(self, root_dir, clip_duration=10, transform=None):\n",
    "        self.root_dir = Path(root_dir)\n",
    "        self.clip_duration = clip_duration\n",
    "        self.transform = transform\n",
    "        \n",
    "        # Get all video paths and their labels\n",
    "        self.samples = []\n",
    "        self.class_to_idx = {}\n",
    "        \n",
    "        for idx, class_dir in enumerate(sorted(self.root_dir.glob('*'))):\n",
    "            if class_dir.is_dir():\n",
    "                class_name = class_dir.name\n",
    "                self.class_to_idx[class_name] = idx\n",
    "                \n",
    "                for video_path in class_dir.glob('*.mp4'):\n",
    "                    self.samples.append((str(video_path), idx))\n",
    "    \n",
    "    def __len__(self):\n",
    "        return len(self.samples)\n",
    "    \n",
    "    def __getitem__(self, idx):\n",
    "        video_path, label = self.samples[idx]\n",
    "        \n",
    "        # Load video\n",
    "        video = EncodedVideo.from_path(video_path)\n",
    "        \n",
    "        # Extract clip\n",
    "        video_data = video.get_clip(start_sec=0, end_sec=self.clip_duration)\n",
    "        \n",
    "        # Apply transform if specified\n",
    "        if self.transform:\n",
    "            video_data = self.transform(video_data)\n",
    "        \n",
    "        return video_data[\"video\"], label\n",
    "\n",
    "def create_video_transform(side_size=256, crop_size=256, num_frames=8):\n",
    "    \"\"\"Creates video transform pipeline\"\"\"\n",
    "    return ApplyTransformToKey(\n",
    "        key=\"video\",\n",
    "        transform=Compose([\n",
    "            UniformTemporalSubsample(num_frames),\n",
    "            Lambda(lambda x: x/255.0),\n",
    "            NormalizeVideo([0.45, 0.45, 0.45], [0.225, 0.225, 0.225]),\n",
    "            ShortSideScale(size=side_size),\n",
    "            CenterCropVideo(crop_size=(crop_size, crop_size))\n",
    "        ])\n",
    "    )\n",
    "\n",
    "def modify_model_head(model, num_classes=3):\n",
    "    \"\"\"Modifies the classification head of the model\"\"\"\n",
    "    if hasattr(model, 'blocks') and hasattr(model.blocks[-1], 'proj'):\n",
    "        in_features = model.blocks[-1].proj.in_features\n",
    "        model.blocks[-1].proj = nn.Linear(in_features, num_classes)\n",
    "    else:\n",
    "        # Generic approach for other model architectures\n",
    "        for name, module in model.named_children():\n",
    "            if isinstance(module, nn.Linear):\n",
    "                in_features = module.in_features\n",
    "                setattr(model, name, nn.Linear(in_features, num_classes))\n",
    "    return model\n",
    "\n",
    "def train_epoch(model, dataloader, criterion, optimizer, device):\n",
    "    \"\"\"Trains the model for one epoch\"\"\"\n",
    "    model.train()\n",
    "    running_loss = 0.0\n",
    "    predictions = []\n",
    "    true_labels = []\n",
    "    \n",
    "    for inputs, labels in tqdm(dataloader, desc=\"Training\"):\n",
    "        inputs = inputs.to(device)\n",
    "        labels = labels.to(device)\n",
    "        \n",
    "        optimizer.zero_grad()\n",
    "        outputs = model(inputs)\n",
    "        loss = criterion(outputs, labels)\n",
    "        loss.backward()\n",
    "        optimizer.step()\n",
    "        \n",
    "        running_loss += loss.item()\n",
    "        predictions.extend(outputs.argmax(1).cpu().numpy())\n",
    "        true_labels.extend(labels.cpu().numpy())\n",
    "    \n",
    "    return running_loss / len(dataloader), predictions, true_labels\n",
    "\n",
    "def validate(model, dataloader, criterion, device):\n",
    "    \"\"\"Validates the model\"\"\"\n",
    "    model.eval()\n",
    "    running_loss = 0.0\n",
    "    predictions = []\n",
    "    true_labels = []\n",
    "    \n",
    "    with torch.no_grad():\n",
    "        for inputs, labels in tqdm(dataloader, desc=\"Validating\"):\n",
    "            inputs = inputs.to(device)\n",
    "            labels = labels.to(device)\n",
    "            \n",
    "            outputs = model(inputs)\n",
    "            loss = criterion(outputs, labels)\n",
    "            \n",
    "            running_loss += loss.item()\n",
    "            predictions.extend(outputs.argmax(1).cpu().numpy())\n",
    "            true_labels.extend(labels.cpu().numpy())\n",
    "    \n",
    "    return running_loss / len(dataloader), predictions, true_labels\n",
    "\n",
    "def plot_confusion_matrix(cm, class_names, fold):\n",
    "    \"\"\"Plots and saves confusion matrix\"\"\"\n",
    "    plt.figure(figsize=(10, 8))\n",
    "    sns.heatmap(cm, annot=True, fmt='d', cmap='Blues',\n",
    "                xticklabels=class_names,\n",
    "                yticklabels=class_names)\n",
    "    plt.title(f'Confusion Matrix - Fold {fold}')\n",
    "    plt.ylabel('True Label')\n",
    "    plt.xlabel('Predicted Label')\n",
    "    plt.tight_layout()\n",
    "    plt.savefig(f'confusion_matrix_fold_{fold}.png')\n",
    "    plt.close()\n",
    "\n",
    "def train_model(model_class, dataset_path, num_epochs=30, batch_size=8, num_folds=5,\n",
    "                learning_rate=0.001, device=\"cuda\"):\n",
    "    \"\"\"\n",
    "    Main training function with cross-validation\n",
    "    \n",
    "    Args:\n",
    "        model_class: Class of the model to be trained (e.g., SlowR50)\n",
    "        dataset_path: Path to dataset directory\n",
    "        num_epochs: Number of training epochs\n",
    "        batch_size: Batch size for training\n",
    "        num_folds: Number of folds for cross-validation\n",
    "        learning_rate: Learning rate for optimizer\n",
    "        device: Device to train on ('cuda' or 'cpu')\n",
    "    \"\"\"\n",
    "    # Setup\n",
    "    device = torch.device(device if torch.cuda.is_available() else \"cpu\")\n",
    "    transform = create_video_transform()\n",
    "    dataset = VideoDataset(dataset_path, transform=transform)\n",
    "    \n",
    "    # Cross-validation setup\n",
    "    kfold = KFold(n_splits=num_folds, shuffle=True)\n",
    "    fold_results = []\n",
    "    \n",
    "    # Training loop for each fold\n",
    "    for fold, (train_ids, val_ids) in enumerate(kfold.split(dataset)):\n",
    "        print(f\"\\nTraining Fold {fold+1}/{num_folds}\")\n",
    "        \n",
    "        # Create data loaders\n",
    "        train_loader = DataLoader(dataset, batch_size=batch_size,\n",
    "                                sampler=SubsetRandomSampler(train_ids))\n",
    "        val_loader = DataLoader(dataset, batch_size=batch_size,\n",
    "                              sampler=SubsetRandomSampler(val_ids))\n",
    "        \n",
    "        # Initialize model\n",
    "        model = model_class()\n",
    "        model = modify_model_head(model, num_classes=3)\n",
    "        model = model.to(device)\n",
    "        \n",
    "        # Setup training\n",
    "        criterion = nn.CrossEntropyLoss()\n",
    "        optimizer = torch.optim.Adam(model.parameters(), lr=learning_rate)\n",
    "        scheduler = torch.optim.lr_scheduler.ReduceLROnPlateau(optimizer, patience=3)\n",
    "        \n",
    "        best_val_loss = float('inf')\n",
    "        fold_best_metrics = {}\n",
    "        \n",
    "        # Training loop\n",
    "        for epoch in range(num_epochs):\n",
    "            # Train\n",
    "            train_loss, train_preds, train_labels = train_epoch(\n",
    "                model, train_loader, criterion, optimizer, device\n",
    "            )\n",
    "            \n",
    "            # Validate\n",
    "            val_loss, val_preds, val_labels = validate(\n",
    "                model, val_loader, criterion, device\n",
    "            )\n",
    "            \n",
    "            # Print progress\n",
    "            print(f\"Epoch {epoch+1}/{num_epochs}\")\n",
    "            print(f\"Train Loss: {train_loss:.4f}\")\n",
    "            print(f\"Val Loss: {val_loss:.4f}\")\n",
    "            \n",
    "            # Update learning rate\n",
    "            scheduler.step(val_loss)\n",
    "            \n",
    "            # Save best model\n",
    "            if val_loss < best_val_loss:\n",
    "                best_val_loss = val_loss\n",
    "                torch.save(model.state_dict(), f'best_model_fold_{fold}.pth')\n",
    "                \n",
    "                # Calculate metrics\n",
    "                val_report = classification_report(val_labels, val_preds, \n",
    "                                                output_dict=True)\n",
    "                fold_best_metrics = {\n",
    "                    'fold': fold,\n",
    "                    'val_loss': val_loss,\n",
    "                    'val_report': val_report,\n",
    "                    'confusion_matrix': confusion_matrix(val_labels, val_preds)\n",
    "                }\n",
    "        \n",
    "        # Save fold results\n",
    "        fold_results.append(fold_best_metrics)\n",
    "        \n",
    "        # Plot confusion matrix\n",
    "        plot_confusion_matrix(\n",
    "            fold_best_metrics['confusion_matrix'],\n",
    "            list(dataset.class_to_idx.keys()),\n",
    "            fold\n",
    "        )\n",
    "    \n",
    "    # Calculate and print final results\n",
    "    print(\"\\nFinal Cross-Validation Results:\")\n",
    "    class_metrics = {cls: {'precision': [], 'recall': [], 'f1-score': []}\n",
    "                    for cls in dataset.class_to_idx.keys()}\n",
    "    \n",
    "    for fold_metric in fold_results:\n",
    "        for cls in dataset.class_to_idx.keys():\n",
    "            metrics = fold_metric['val_report'][str(dataset.class_to_idx[cls])]\n",
    "            class_metrics[cls]['precision'].append(metrics['precision'])\n",
    "            class_metrics[cls]['recall'].append(metrics['recall'])\n",
    "            class_metrics[cls]['f1-score'].append(metrics['f1-score'])\n",
    "    \n",
    "    # Create final report\n",
    "    final_report = {}\n",
    "    for cls in class_metrics:\n",
    "        final_report[cls] = {\n",
    "            'precision': f\"{np.mean(class_metrics[cls]['precision']):.3f} ± {np.std(class_metrics[cls]['precision']):.3f}\",\n",
    "            'recall': f\"{np.mean(class_metrics[cls]['recall']):.3f} ± {np.std(class_metrics[cls]['recall']):.3f}\",\n",
    "            'f1-score': f\"{np.mean(class_metrics[cls]['f1-score']):.3f} ± {np.std(class_metrics[cls]['f1-score']):.3f}\"\n",
    "        }\n",
    "    \n",
    "    # Save final report\n",
    "    pd.DataFrame(final_report).transpose().to_csv('classification_report.csv')\n",
    "    print(\"\\nClass-wise Performance:\")\n",
    "    print(pd.DataFrame(final_report).transpose())\n",
    "\n",
    "def main():\n",
    "    # Configuration\n",
    "    config = {\n",
    "        'model_class': lambda: torch.hub.load('facebookresearch/pytorchvideo', 'slow_r50', pretrained = True),\n",
    "        'dataset_path': \"vrwalking\",\n",
    "        'num_epochs': 5,\n",
    "        'batch_size': 8,\n",
    "        'num_folds': 2,\n",
    "        'learning_rate': 0.001,\n",
    "        'device': \"cuda\"\n",
    "    }\n",
    "    \n",
    "    # Train model\n",
    "    train_model(**config)\n",
    "\n",
    "if __name__ == \"__main__\":\n",
    "    main()"
   ]
  }
 ],
 "metadata": {
  "kernelspec": {
   "display_name": "save",
   "language": "python",
   "name": "python3"
  },
  "language_info": {
   "codemirror_mode": {
    "name": "ipython",
    "version": 3
   },
   "file_extension": ".py",
   "mimetype": "text/x-python",
   "name": "python",
   "nbconvert_exporter": "python",
   "pygments_lexer": "ipython3",
   "version": "3.11.5"
  }
 },
 "nbformat": 4,
 "nbformat_minor": 2
}
